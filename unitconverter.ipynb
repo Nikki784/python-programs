{
 "cells": [
  {
   "cell_type": "code",
   "execution_count": null,
   "id": "d1605416-0259-4f4b-a338-9bbb6623e003",
   "metadata": {},
   "outputs": [
    {
     "name": "stdout",
     "output_type": "stream",
     "text": [
      "\n",
      "Choose conversion type:\n",
      "1. Kilometers to Miles\n",
      "2. Miles to Kilometers\n",
      "3. Kilograms to Pounds\n",
      "4. Pounds to Kilograms\n",
      "5. Celsius to Fahrenheit\n",
      "6. Fahrenheit to Celsius\n"
     ]
    },
    {
     "name": "stdin",
     "output_type": "stream",
     "text": [
      "Enter choice (1-6), or 'q' to quit:  3\n",
      "Enter the value to convert:  300\n"
     ]
    },
    {
     "name": "stdout",
     "output_type": "stream",
     "text": [
      "300.0 kg = 661.39 pounds\n",
      "\n",
      "Choose conversion type:\n",
      "1. Kilometers to Miles\n",
      "2. Miles to Kilometers\n",
      "3. Kilograms to Pounds\n",
      "4. Pounds to Kilograms\n",
      "5. Celsius to Fahrenheit\n",
      "6. Fahrenheit to Celsius\n"
     ]
    }
   ],
   "source": [
    "def km_to_miles(km):\n",
    "    return km * 0.621371\n",
    "\n",
    "def miles_to_km(miles):\n",
    "    return miles / 0.621371\n",
    "\n",
    "def kg_to_pounds(kg):\n",
    "    return kg * 2.20462\n",
    "\n",
    "def pounds_to_kg(pounds):\n",
    "    return pounds / 2.20462\n",
    "\n",
    "def c_to_f(c):\n",
    "    return (c * 9/5) + 32\n",
    "\n",
    "def f_to_c(f):\n",
    "    return (f - 32) * 5/9\n",
    "\n",
    "def show_menu():\n",
    "    print(\"\\nChoose conversion type:\")\n",
    "    print(\"1. Kilometers to Miles\")\n",
    "    print(\"2. Miles to Kilometers\")\n",
    "    print(\"3. Kilograms to Pounds\")\n",
    "    print(\"4. Pounds to Kilograms\")\n",
    "    print(\"5. Celsius to Fahrenheit\")\n",
    "    print(\"6. Fahrenheit to Celsius\")\n",
    "\n",
    "def main():\n",
    "    while True:\n",
    "        show_menu()\n",
    "        choice = input(\"Enter choice (1-6), or 'q' to quit: \")\n",
    "\n",
    "        if choice.lower() == 'q':\n",
    "            print(\"Thank you for using the converter!\")\n",
    "            break\n",
    "\n",
    "        try:\n",
    "            value = float(input(\"Enter the value to convert: \"))\n",
    "        except ValueError:\n",
    "            print(\"Please enter a valid number.\")\n",
    "            continue\n",
    "\n",
    "        if choice == '1':\n",
    "            print(f\"{value} km = {km_to_miles(value):.2f} miles\")\n",
    "        elif choice == '2':\n",
    "            print(f\"{value} miles = {miles_to_km(value):.2f} km\")\n",
    "        elif choice == '3':\n",
    "            print(f\"{value} kg = {kg_to_pounds(value):.2f} pounds\")\n",
    "        elif choice == '4':\n",
    "            print(f\"{value} pounds = {pounds_to_kg(value):.2f} kg\")\n",
    "        elif choice == '5':\n",
    "            print(f\"{value}°C = {c_to_f(value):.2f}°F\")\n",
    "        elif choice == '6':\n",
    "            print(f\"{value}°F = {f_to_c(value):.2f}°C\")\n",
    "        else:\n",
    "            print(\"Invalid choice. Please select a valid option.\")\n",
    "\n",
    "main()\n"
   ]
  },
  {
   "cell_type": "code",
   "execution_count": null,
   "id": "5b041e79-7477-4a21-a1aa-a7c492fc88f6",
   "metadata": {},
   "outputs": [],
   "source": []
  }
 ],
 "metadata": {
  "kernelspec": {
   "display_name": "Python 3 (ipykernel)",
   "language": "python",
   "name": "python3"
  },
  "language_info": {
   "codemirror_mode": {
    "name": "ipython",
    "version": 3
   },
   "file_extension": ".py",
   "mimetype": "text/x-python",
   "name": "python",
   "nbconvert_exporter": "python",
   "pygments_lexer": "ipython3",
   "version": "3.10.10"
  }
 },
 "nbformat": 4,
 "nbformat_minor": 5
}
